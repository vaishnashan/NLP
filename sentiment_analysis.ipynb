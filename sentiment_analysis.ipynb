{
  "nbformat": 4,
  "nbformat_minor": 0,
  "metadata": {
    "colab": {
      "provenance": [],
      "authorship_tag": "ABX9TyNrFcOVkHVLGqjdn/Pb0UIz",
      "include_colab_link": true
    },
    "kernelspec": {
      "name": "python3",
      "display_name": "Python 3"
    },
    "language_info": {
      "name": "python"
    }
  },
  "cells": [
    {
      "cell_type": "markdown",
      "metadata": {
        "id": "view-in-github",
        "colab_type": "text"
      },
      "source": [
        "<a href=\"https://colab.research.google.com/github/vaishnashan/NLP/blob/main/sentiment_analysis.ipynb\" target=\"_parent\"><img src=\"https://colab.research.google.com/assets/colab-badge.svg\" alt=\"Open In Colab\"/></a>"
      ]
    },
    {
      "cell_type": "code",
      "execution_count": 1,
      "metadata": {
        "colab": {
          "base_uri": "https://localhost:8080/"
        },
        "id": "xiGYQoaVT9Xd",
        "outputId": "1bfffb69-88c2-47b7-ebc5-2e6f3b6a7c26"
      },
      "outputs": [
        {
          "output_type": "stream",
          "name": "stderr",
          "text": [
            "[nltk_data] Downloading package stopwords to /root/nltk_data...\n",
            "[nltk_data]   Unzipping corpora/stopwords.zip.\n",
            "[nltk_data] Downloading package wordnet to /root/nltk_data...\n"
          ]
        },
        {
          "output_type": "execute_result",
          "data": {
            "text/plain": [
              "True"
            ]
          },
          "metadata": {},
          "execution_count": 1
        }
      ],
      "source": [
        "import nltk\n",
        "nltk.download(\"stopwords\")\n",
        "nltk.download(\"wordnet\")\n",
        "\n"
      ]
    },
    {
      "cell_type": "code",
      "source": [
        "import pandas as pd\n",
        "from nltk.corpus import stopwords\n",
        "from nltk.stem import WordNetLemmatizer\n",
        "import string\n",
        "import re\n"
      ],
      "metadata": {
        "id": "5gBfPaY-UyVp"
      },
      "execution_count": 11,
      "outputs": []
    },
    {
      "cell_type": "code",
      "source": [
        "reviews= [\n",
        "\"Great cooler.. excellent air flow and for this price. It's so amazing and unbelievable. Just love it ��?�?�\",\n",
        "\"Best budget 2 fit cooler. Nice cooling\",\n",
        "\"The quality is good but the power of air is decent\",\n",
        "\"Very bad product it's a only a fan\",\n",
        "\"Ok ok product\",\n",
        "\"The cooler is really fantastic and provides good air flow. Highly recommended,\"\n",
        "\"Very good product\",\n",
        "\"Very nice\",\n",
        "\"Very bad cooler\",\n",
        "\"Very good\",\n",
        "\"Beautiful product good material and perfectly working\",\n",
        "\"Awesome\",\n",
        "\"Good\",\n",
        "\"Wonderful product, Must buy\",\n",
        "\"Nice air cooler, smart cool breeze producer\",\n",
        "\"Awsm\",\"Nice product ???�\"]\n"
      ],
      "metadata": {
        "id": "B5JRfwR2VopX"
      },
      "execution_count": 13,
      "outputs": []
    },
    {
      "cell_type": "code",
      "source": [
        "reviews.append(\"Amazing product, exceeded my expectations!\")\n",
        "reviews.append(\"Not bad, works fine but could be quieter.\")\n",
        "reviews.append(\"Best cooler I've bought in a long time!\")\n",
        "reviews.append(\"Affordable and works well for small rooms.\")\n",
        "reviews.append(\"Disappointing, the air flow is weak.\")\n",
        "reviews.append(\"Perfect for the summer, keeps the room cool.\")\n",
        "reviews.append(\"Good value for money, works as expected.\")\n",
        "reviews.append(\"Excellent performance, very satisfied!\")\n",
        "reviews.append(\"Really noisy, not ideal for a peaceful environment.\")\n",
        "reviews.append(\"Highly recommend for its cooling efficiency.\")\n"
      ],
      "metadata": {
        "id": "canVaBnpXZtV"
      },
      "execution_count": 14,
      "outputs": []
    },
    {
      "cell_type": "code",
      "source": [
        "reviews"
      ],
      "metadata": {
        "colab": {
          "base_uri": "https://localhost:8080/"
        },
        "id": "EXujnz3kX-br",
        "outputId": "44421a91-9c21-42f8-f67c-5fdd1ee51af8"
      },
      "execution_count": 15,
      "outputs": [
        {
          "output_type": "execute_result",
          "data": {
            "text/plain": [
              "[\"Great cooler.. excellent air flow and for this price. It's so amazing and unbelievable. Just love it ��?�?�\",\n",
              " 'Best budget 2 fit cooler. Nice cooling',\n",
              " 'The quality is good but the power of air is decent',\n",
              " \"Very bad product it's a only a fan\",\n",
              " 'Ok ok product',\n",
              " 'The cooler is really fantastic and provides good air flow. Highly recommended,Very good product',\n",
              " 'Very nice',\n",
              " 'Very bad cooler',\n",
              " 'Very good',\n",
              " 'Beautiful product good material and perfectly working',\n",
              " 'Awesome',\n",
              " 'Good',\n",
              " 'Wonderful product, Must buy',\n",
              " 'Nice air cooler, smart cool breeze producer',\n",
              " 'Awsm',\n",
              " 'Nice product ???�',\n",
              " 'Amazing product, exceeded my expectations!',\n",
              " 'Not bad, works fine but could be quieter.',\n",
              " \"Best cooler I've bought in a long time!\",\n",
              " 'Affordable and works well for small rooms.',\n",
              " 'Disappointing, the air flow is weak.',\n",
              " 'Perfect for the summer, keeps the room cool.',\n",
              " 'Good value for money, works as expected.',\n",
              " 'Excellent performance, very satisfied!',\n",
              " 'Really noisy, not ideal for a peaceful environment.',\n",
              " 'Highly recommend for its cooling efficiency.']"
            ]
          },
          "metadata": {},
          "execution_count": 15
        }
      ]
    },
    {
      "cell_type": "code",
      "source": [
        "len(reviews)"
      ],
      "metadata": {
        "colab": {
          "base_uri": "https://localhost:8080/"
        },
        "id": "lQ8TKCD7an7r",
        "outputId": "c89b8626-a186-41b4-d364-6c89934a4586"
      },
      "execution_count": 22,
      "outputs": [
        {
          "output_type": "execute_result",
          "data": {
            "text/plain": [
              "26"
            ]
          },
          "metadata": {},
          "execution_count": 22
        }
      ]
    },
    {
      "cell_type": "code",
      "source": [
        "# Function for text preprocessing\n",
        "def preprocess_text(text):\n",
        "    text = re.sub(r'\\d+', '', text)                         # Remove numbers\n",
        "    text = text.translate(str.maketrans('', '', string.punctuation))  # Remove punctuation\n",
        "    text = text.lower()                                     # Convert text to lowercase\n",
        "    text = ' '.join([word for word in text.split() if word not in stopwords.words('english')])  # Remove stopwords\n",
        "    lemmatizer = WordNetLemmatizer()\n",
        "    text = ' '.join([lemmatizer.lemmatize(word) for word in text.split()])  # Lemmatization\n",
        "    return text\n",
        "\n",
        "# Apply preprocessing to each review\n",
        "preprocessed_reviews = [preprocess_text(review) for review in reviews]\n"
      ],
      "metadata": {
        "id": "PU9maTSLYChX"
      },
      "execution_count": 16,
      "outputs": []
    },
    {
      "cell_type": "code",
      "source": [
        "preprocessed_reviews"
      ],
      "metadata": {
        "colab": {
          "base_uri": "https://localhost:8080/"
        },
        "id": "QX2URRl7ZA-F",
        "outputId": "08df6006-ccf6-4ed1-f806-8b107bb6f66f"
      },
      "execution_count": 17,
      "outputs": [
        {
          "output_type": "execute_result",
          "data": {
            "text/plain": [
              "['great cooler excellent air flow price amazing unbelievable love ����',\n",
              " 'best budget fit cooler nice cooling',\n",
              " 'quality good power air decent',\n",
              " 'bad product fan',\n",
              " 'ok ok product',\n",
              " 'cooler really fantastic provides good air flow highly recommendedvery good product',\n",
              " 'nice',\n",
              " 'bad cooler',\n",
              " 'good',\n",
              " 'beautiful product good material perfectly working',\n",
              " 'awesome',\n",
              " 'good',\n",
              " 'wonderful product must buy',\n",
              " 'nice air cooler smart cool breeze producer',\n",
              " 'awsm',\n",
              " 'nice product �',\n",
              " 'amazing product exceeded expectation',\n",
              " 'bad work fine could quieter',\n",
              " 'best cooler ive bought long time',\n",
              " 'affordable work well small room',\n",
              " 'disappointing air flow weak',\n",
              " 'perfect summer keep room cool',\n",
              " 'good value money work expected',\n",
              " 'excellent performance satisfied',\n",
              " 'really noisy ideal peaceful environment',\n",
              " 'highly recommend cooling efficiency']"
            ]
          },
          "metadata": {},
          "execution_count": 17
        }
      ]
    },
    {
      "cell_type": "code",
      "source": [
        "from sklearn.feature_extraction.text import TfidfVectorizer\n",
        "\n",
        "# Initialize TF-IDF vectorizer\n",
        "tfidf_vectorizer = TfidfVectorizer()\n",
        "\n",
        "# Fit-transform the preprocessed reviews\n",
        "tfidf_matrix = tfidf_vectorizer.fit_transform(preprocessed_reviews)\n",
        "\n",
        "# Convert TF-IDF matrix to DataFrame for visualization (optional)\n",
        "tfidf_df = pd.DataFrame(tfidf_matrix.toarray(), columns=tfidf_vectorizer.get_feature_names_out())\n",
        "\n",
        "print(tfidf_df)\n"
      ],
      "metadata": {
        "colab": {
          "base_uri": "https://localhost:8080/"
        },
        "id": "2Nk2bVDbZC9I",
        "outputId": "6a708be2-bb97-46a5-9813-a69fd38b4194"
      },
      "execution_count": 19,
      "outputs": [
        {
          "output_type": "stream",
          "name": "stdout",
          "text": [
            "    affordable       air   amazing  awesome  awsm       bad  beautiful  \\\n",
            "0      0.00000  0.260193  0.332216      0.0   0.0  0.000000   0.000000   \n",
            "1      0.00000  0.000000  0.000000      0.0   0.0  0.000000   0.000000   \n",
            "2      0.00000  0.351570  0.000000      0.0   0.0  0.000000   0.000000   \n",
            "3      0.00000  0.000000  0.000000      0.0   0.0  0.566728   0.000000   \n",
            "4      0.00000  0.000000  0.000000      0.0   0.0  0.000000   0.000000   \n",
            "5      0.00000  0.242485  0.000000      0.0   0.0  0.000000   0.000000   \n",
            "6      0.00000  0.000000  0.000000      0.0   0.0  0.000000   0.000000   \n",
            "7      0.00000  0.000000  0.000000      0.0   0.0  0.777953   0.000000   \n",
            "8      0.00000  0.000000  0.000000      0.0   0.0  0.000000   0.000000   \n",
            "9      0.00000  0.000000  0.000000      0.0   0.0  0.000000   0.456249   \n",
            "10     0.00000  0.000000  0.000000      1.0   0.0  0.000000   0.000000   \n",
            "11     0.00000  0.000000  0.000000      0.0   0.0  0.000000   0.000000   \n",
            "12     0.00000  0.000000  0.000000      0.0   0.0  0.000000   0.000000   \n",
            "13     0.00000  0.303286  0.000000      0.0   0.0  0.000000   0.000000   \n",
            "14     0.00000  0.000000  0.000000      0.0   1.0  0.000000   0.000000   \n",
            "15     0.00000  0.000000  0.000000      0.0   0.0  0.000000   0.000000   \n",
            "16     0.00000  0.000000  0.498755      0.0   0.0  0.000000   0.000000   \n",
            "17     0.00000  0.000000  0.000000      0.0   0.0  0.389260   0.000000   \n",
            "18     0.00000  0.000000  0.000000      0.0   0.0  0.000000   0.000000   \n",
            "19     0.47459  0.000000  0.000000      0.0   0.0  0.000000   0.000000   \n",
            "20     0.00000  0.392536  0.000000      0.0   0.0  0.000000   0.000000   \n",
            "21     0.00000  0.000000  0.000000      0.0   0.0  0.000000   0.000000   \n",
            "22     0.00000  0.000000  0.000000      0.0   0.0  0.000000   0.000000   \n",
            "23     0.00000  0.000000  0.000000      0.0   0.0  0.000000   0.000000   \n",
            "24     0.00000  0.000000  0.000000      0.0   0.0  0.000000   0.000000   \n",
            "25     0.00000  0.000000  0.000000      0.0   0.0  0.000000   0.000000   \n",
            "\n",
            "        best    bought    breeze  ...     smart    summer      time  \\\n",
            "0   0.000000  0.000000  0.000000  ...  0.000000  0.000000  0.000000   \n",
            "1   0.415743  0.000000  0.000000  ...  0.000000  0.000000  0.000000   \n",
            "2   0.000000  0.000000  0.000000  ...  0.000000  0.000000  0.000000   \n",
            "3   0.000000  0.000000  0.000000  ...  0.000000  0.000000  0.000000   \n",
            "4   0.000000  0.000000  0.000000  ...  0.000000  0.000000  0.000000   \n",
            "5   0.000000  0.000000  0.000000  ...  0.000000  0.000000  0.000000   \n",
            "6   0.000000  0.000000  0.000000  ...  0.000000  0.000000  0.000000   \n",
            "7   0.000000  0.000000  0.000000  ...  0.000000  0.000000  0.000000   \n",
            "8   0.000000  0.000000  0.000000  ...  0.000000  0.000000  0.000000   \n",
            "9   0.000000  0.000000  0.000000  ...  0.000000  0.000000  0.000000   \n",
            "10  0.000000  0.000000  0.000000  ...  0.000000  0.000000  0.000000   \n",
            "11  0.000000  0.000000  0.000000  ...  0.000000  0.000000  0.000000   \n",
            "12  0.000000  0.000000  0.000000  ...  0.000000  0.000000  0.000000   \n",
            "13  0.000000  0.000000  0.436346  ...  0.436346  0.000000  0.000000   \n",
            "14  0.000000  0.000000  0.000000  ...  0.000000  0.000000  0.000000   \n",
            "15  0.000000  0.000000  0.000000  ...  0.000000  0.000000  0.000000   \n",
            "16  0.000000  0.000000  0.000000  ...  0.000000  0.000000  0.000000   \n",
            "17  0.000000  0.000000  0.000000  ...  0.000000  0.000000  0.000000   \n",
            "18  0.388688  0.437981  0.000000  ...  0.000000  0.000000  0.437981   \n",
            "19  0.000000  0.000000  0.000000  ...  0.000000  0.000000  0.000000   \n",
            "20  0.000000  0.000000  0.000000  ...  0.000000  0.000000  0.000000   \n",
            "21  0.000000  0.000000  0.000000  ...  0.000000  0.467517  0.000000   \n",
            "22  0.000000  0.000000  0.000000  ...  0.000000  0.000000  0.000000   \n",
            "23  0.000000  0.000000  0.000000  ...  0.000000  0.000000  0.000000   \n",
            "24  0.000000  0.000000  0.000000  ...  0.000000  0.000000  0.000000   \n",
            "25  0.000000  0.000000  0.000000  ...  0.000000  0.000000  0.000000   \n",
            "\n",
            "    unbelievable     value      weak     well  wonderful      work   working  \n",
            "0       0.374347  0.000000  0.000000  0.00000   0.000000  0.000000  0.000000  \n",
            "1       0.000000  0.000000  0.000000  0.00000   0.000000  0.000000  0.000000  \n",
            "2       0.000000  0.000000  0.000000  0.00000   0.000000  0.000000  0.000000  \n",
            "3       0.000000  0.000000  0.000000  0.00000   0.000000  0.000000  0.000000  \n",
            "4       0.000000  0.000000  0.000000  0.00000   0.000000  0.000000  0.000000  \n",
            "5       0.000000  0.000000  0.000000  0.00000   0.000000  0.000000  0.000000  \n",
            "6       0.000000  0.000000  0.000000  0.00000   0.000000  0.000000  0.000000  \n",
            "7       0.000000  0.000000  0.000000  0.00000   0.000000  0.000000  0.000000  \n",
            "8       0.000000  0.000000  0.000000  0.00000   0.000000  0.000000  0.000000  \n",
            "9       0.000000  0.000000  0.000000  0.00000   0.000000  0.000000  0.456249  \n",
            "10      0.000000  0.000000  0.000000  0.00000   0.000000  0.000000  0.000000  \n",
            "11      0.000000  0.000000  0.000000  0.00000   0.000000  0.000000  0.000000  \n",
            "12      0.000000  0.000000  0.000000  0.00000   0.544051  0.000000  0.000000  \n",
            "13      0.000000  0.000000  0.000000  0.00000   0.000000  0.000000  0.000000  \n",
            "14      0.000000  0.000000  0.000000  0.00000   0.000000  0.000000  0.000000  \n",
            "15      0.000000  0.000000  0.000000  0.00000   0.000000  0.000000  0.000000  \n",
            "16      0.000000  0.000000  0.000000  0.00000   0.000000  0.000000  0.000000  \n",
            "17      0.000000  0.000000  0.000000  0.00000   0.000000  0.389260  0.000000  \n",
            "18      0.000000  0.000000  0.000000  0.00000   0.000000  0.000000  0.000000  \n",
            "19      0.000000  0.000000  0.000000  0.47459   0.000000  0.383280  0.000000  \n",
            "20      0.000000  0.000000  0.564753  0.00000   0.000000  0.000000  0.000000  \n",
            "21      0.000000  0.000000  0.000000  0.00000   0.000000  0.000000  0.000000  \n",
            "22      0.000000  0.495215  0.000000  0.00000   0.000000  0.399937  0.000000  \n",
            "23      0.000000  0.000000  0.000000  0.00000   0.000000  0.000000  0.000000  \n",
            "24      0.000000  0.000000  0.000000  0.00000   0.000000  0.000000  0.000000  \n",
            "25      0.000000  0.000000  0.000000  0.00000   0.000000  0.000000  0.000000  \n",
            "\n",
            "[26 rows x 70 columns]\n"
          ]
        }
      ]
    },
    {
      "cell_type": "code",
      "source": [
        "tfidf_matrix"
      ],
      "metadata": {
        "colab": {
          "base_uri": "https://localhost:8080/"
        },
        "id": "LJ85-dNGaGWY",
        "outputId": "a02531d9-587b-422f-d90f-532d659f70d7"
      },
      "execution_count": 20,
      "outputs": [
        {
          "output_type": "execute_result",
          "data": {
            "text/plain": [
              "<26x70 sparse matrix of type '<class 'numpy.float64'>'\n",
              "\twith 107 stored elements in Compressed Sparse Row format>"
            ]
          },
          "metadata": {},
          "execution_count": 20
        }
      ]
    },
    {
      "cell_type": "code",
      "source": [
        "print(tfidf_matrix)"
      ],
      "metadata": {
        "colab": {
          "base_uri": "https://localhost:8080/"
        },
        "id": "ONuqn3P5aWFv",
        "outputId": "8b657c39-2581-43d5-a9a4-a3bbaec0b397"
      },
      "execution_count": 21,
      "outputs": [
        {
          "output_type": "stream",
          "name": "stdout",
          "text": [
            "  (0, 30)\t0.37434713862838626\n",
            "  (0, 13)\t0.24417544092969923\n",
            "  (0, 21)\t0.3322161986123248\n",
            "  (0, 1)\t0.26019288093961696\n",
            "  (0, 28)\t0.3023238209556784\n",
            "  (0, 48)\t0.37434713862838626\n",
            "  (0, 2)\t0.3322161986123248\n",
            "  (0, 63)\t0.37434713862838626\n",
            "  (0, 36)\t0.37434713862838626\n",
            "  (1, 13)\t0.30556656702241536\n",
            "  (1, 7)\t0.41574272552837144\n",
            "  (1, 10)\t0.468466319093384\n",
            "  (1, 27)\t0.468466319093384\n",
            "  (1, 40)\t0.34931885321123124\n",
            "  (1, 14)\t0.41574272552837144\n",
            "  (2, 1)\t0.351570490075811\n",
            "  (2, 52)\t0.5058147882862405\n",
            "  (2, 29)\t0.3299278562969355\n",
            "  (2, 47)\t0.5058147882862405\n",
            "  (2, 16)\t0.5058147882862405\n",
            "  (3, 5)\t0.5667283199099198\n",
            "  (3, 50)\t0.43171529417492094\n",
            "  (3, 24)\t0.7017413456449186\n",
            "  (4, 50)\t0.294007750309077\n",
            "  (4, 42)\t0.9558030355456063\n",
            "  :\t:\n",
            "  (20, 28)\t0.4560961252512186\n",
            "  (20, 17)\t0.564752982042783\n",
            "  (20, 65)\t0.564752982042783\n",
            "  (21, 12)\t0.4149000678230826\n",
            "  (21, 57)\t0.4149000678230826\n",
            "  (21, 44)\t0.4675167973598392\n",
            "  (21, 61)\t0.4675167973598392\n",
            "  (21, 34)\t0.4675167973598392\n",
            "  (22, 29)\t0.3230137160052854\n",
            "  (22, 68)\t0.39993678509185576\n",
            "  (22, 64)\t0.4952146696813573\n",
            "  (22, 38)\t0.4952146696813573\n",
            "  (22, 23)\t0.4952146696813573\n",
            "  (23, 21)\t0.5315362818242734\n",
            "  (23, 46)\t0.598944563838936\n",
            "  (23, 58)\t0.598944563838936\n",
            "  (24, 54)\t0.40559111980781043\n",
            "  (24, 41)\t0.4570273086843516\n",
            "  (24, 32)\t0.4570273086843516\n",
            "  (24, 43)\t0.4570273086843516\n",
            "  (24, 19)\t0.4570273086843516\n",
            "  (25, 14)\t0.46935236350846904\n",
            "  (25, 31)\t0.46935236350846904\n",
            "  (25, 55)\t0.5288746154515396\n",
            "  (25, 18)\t0.5288746154515396\n"
          ]
        }
      ]
    },
    {
      "cell_type": "code",
      "source": [
        "from sklearn.model_selection import train_test_split\n",
        "from sklearn.linear_model import LogisticRegression\n",
        "from sklearn.metrics import accuracy_score\n",
        "\n",
        "# Define the sentiment labels and their corresponding numerical values\n",
        "sentiment_mapping = {\n",
        "    \"Positive\": 1,\n",
        "    \"Neutral\": 0,\n",
        "    \"Negative\": -1\n",
        "}\n",
        "\n",
        "# Assign numerical labels to each review based on the sentiment\n",
        "y_train = [1, 1, 0, -1, 0, 1, 1, 1, -1, 1, 1, 1, 1, 1, 1, 1, 1, 1, 1, 1, 1, 1, 1, 1, 1, -1]\n",
        "\n",
        "# Split data into training and testing sets\n",
        "X_train, X_test, y_train, y_test = train_test_split(tfidf_df, y_train, test_size=0.2, random_state=42)\n",
        "\n",
        "# Initialize and train logistic regression model\n",
        "logistic_regression = LogisticRegression()\n",
        "logistic_regression.fit(X_train, y_train)\n",
        "\n",
        "# Predict sentiment labels for test data\n",
        "y_pred = logistic_regression.predict(X_test)\n",
        "y_pred\n"
      ],
      "metadata": {
        "colab": {
          "base_uri": "https://localhost:8080/"
        },
        "id": "yAcruMzMaX1a",
        "outputId": "74db34fd-13f5-4944-d0b6-af278025597e"
      },
      "execution_count": 29,
      "outputs": [
        {
          "output_type": "execute_result",
          "data": {
            "text/plain": [
              "array([1, 1, 1, 1, 1, 1])"
            ]
          },
          "metadata": {},
          "execution_count": 29
        }
      ]
    },
    {
      "cell_type": "code",
      "source": [
        "print(len(X_train))\n",
        "print(len(X_test))"
      ],
      "metadata": {
        "colab": {
          "base_uri": "https://localhost:8080/"
        },
        "id": "f6P2obYFbLFr",
        "outputId": "ebf8f9cf-3273-4c3b-f3f7-34d826196e8e"
      },
      "execution_count": 32,
      "outputs": [
        {
          "output_type": "stream",
          "name": "stdout",
          "text": [
            "20\n",
            "6\n"
          ]
        }
      ]
    },
    {
      "cell_type": "code",
      "source": [
        "print(y_test)\n",
        "print(y_pred)"
      ],
      "metadata": {
        "colab": {
          "base_uri": "https://localhost:8080/"
        },
        "id": "-9pj_uC-b5GP",
        "outputId": "48f9d744-0388-4e0e-d8a2-56fcc1826e5f"
      },
      "execution_count": 33,
      "outputs": [
        {
          "output_type": "stream",
          "name": "stdout",
          "text": [
            "[-1, 1, 1, 1, 1, 1]\n",
            "[1 1 1 1 1 1]\n"
          ]
        }
      ]
    },
    {
      "cell_type": "code",
      "source": [
        "# Evaluate model performance\n",
        "accuracy = accuracy_score(y_test, y_pred)\n",
        "print(\"Accuracy:\", accuracy)\n"
      ],
      "metadata": {
        "colab": {
          "base_uri": "https://localhost:8080/"
        },
        "id": "LkFL7lxMcEgD",
        "outputId": "91ed85ce-a730-497a-ffef-400cb1293ae1"
      },
      "execution_count": 34,
      "outputs": [
        {
          "output_type": "stream",
          "name": "stdout",
          "text": [
            "Accuracy: 0.8333333333333334\n"
          ]
        }
      ]
    }
  ]
}